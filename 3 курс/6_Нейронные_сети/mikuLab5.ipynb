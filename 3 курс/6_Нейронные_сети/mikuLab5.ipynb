{
 "cells": [
  {
   "cell_type": "code",
   "execution_count": null,
   "id": "2748dac9",
   "metadata": {},
   "outputs": [],
   "source": [
    "import matplotlib.pyplot as plt\n",
    "import numpy as np \n",
    "import seaborn as sns\n",
    "import pandas as pd\n",
    "import scipy\n",
    "%config InlineBackend.figure_format = 'svg' \n",
    "\n",
    "from clickhouse_driver import Client\n",
    "\n",
    "client = Client('oleg.orbita.work', port = 9000, user='student_ml',\n",
    "password='CGRV8zemLGgsfdz7Uc6ZJeisGTcPQa', settings={'use_numpy': True})\n",
    "\n",
    "table_name = 'students_datas. house_train'\n",
    "df = client.query_dataframe(f\"SELECT * FROM {table_name}\")\n",
    "\n",
    "pd.options.display.max_columns = None\n",
    "pd.options.display.max_rows = None"
   ]
  },
  {
   "cell_type": "markdown",
   "id": "9d441349",
   "metadata": {},
   "source": [
    "2.1. Сколько данных в датасете?\n",
    "\n",
    "2.2. Сколько параметров? Выведите список всех параметров."
   ]
  },
  {
   "cell_type": "code",
   "execution_count": null,
   "id": "66787169",
   "metadata": {},
   "outputs": [],
   "source": [
    "df.info(verbose=True, show_counts=False)  # 1460 записей, 81 полей"
   ]
  },
  {
   "cell_type": "markdown",
   "id": "e7eff536",
   "metadata": {},
   "source": [
    "2.3. Есть ли категориальные признаки? Перечислите / выведите их."
   ]
  },
  {
   "cell_type": "code",
   "execution_count": null,
   "id": "709cca65",
   "metadata": {},
   "outputs": [],
   "source": [
    "df.select_dtypes(include=['category']).info(\n",
    "    show_counts=False)  # 27 категориальных полей"
   ]
  },
  {
   "cell_type": "markdown",
   "id": "6afb7f13",
   "metadata": {},
   "source": [
    "2.4. Выведите первые пять строчек DataFrame."
   ]
  },
  {
   "cell_type": "code",
   "execution_count": null,
   "id": "15d97a6f",
   "metadata": {},
   "outputs": [],
   "source": [
    "df.head()"
   ]
  },
  {
   "cell_type": "markdown",
   "id": "c3dd58d1",
   "metadata": {},
   "source": [
    "3 Проверьте, есть ли пропуски и повторы в данных.\n",
    "\n",
    "3.1. Удалите повторы\n",
    "\n",
    "3.2. Удалите столбцы в которых пропущено более 15% данных"
   ]
  },
  {
   "cell_type": "code",
   "execution_count": null,
   "id": "6142d07c",
   "metadata": {},
   "outputs": [],
   "source": [
    "df = df.drop_duplicates()\n",
    "df = df.dropna(axis=1, thresh=len(df) * 0.85)\n",
    "df = df.dropna()\n",
    "df.info(verbose=False, show_counts=True) # вместо 81 стало 74 поля"
   ]
  },
  {
   "cell_type": "markdown",
   "id": "d8815e3b",
   "metadata": {},
   "source": [
    "4 Постройте гистограмму параметра SalePrice. Подчиняется ли распределение нормальному?"
   ]
  },
  {
   "cell_type": "code",
   "execution_count": null,
   "id": "533cadb0",
   "metadata": {},
   "outputs": [],
   "source": [
    "# гистограмма схожа, но не подчиняется нормальному распределению\n",
    "df['SalePrice'].plot.hist()"
   ]
  },
  {
   "cell_type": "code",
   "execution_count": null,
   "id": "f6bf264c",
   "metadata": {},
   "outputs": [],
   "source": [
    "stat, p = scipy.stats.normaltest(df['SalePrice'])  # Критерий согласия Пирсона\n",
    "print('Statistics=%.3f, p-value=%.3f' % (stat, p))\n",
    "alpha = 0.05\n",
    "if p > alpha:\n",
    "    print('Принять гипотезу о нормальном распределении')\n",
    "else:\n",
    "    print('Отклонить гипотезу о нормальном распределении')"
   ]
  },
  {
   "cell_type": "code",
   "execution_count": null,
   "id": "a71522e2",
   "metadata": {},
   "outputs": [],
   "source": [
    "stat, p = scipy.stats.shapiro(df['SalePrice'])  # тест Шапиро-Уилк\n",
    "print('Statistics=%.3f, p-value=%.3f' % (stat, p))\n",
    "alpha = 0.05\n",
    "if p > alpha:\n",
    "    print('Принять гипотезу о нормальности')\n",
    "else:\n",
    "    print('Отклонить гипотезу о нормальности')"
   ]
  },
  {
   "cell_type": "markdown",
   "id": "c1de7802",
   "metadata": {},
   "source": [
    "5 Построить коробочную диаграмму (ящик с усами) признака SalePrice всех домов в данных."
   ]
  },
  {
   "cell_type": "code",
   "execution_count": null,
   "id": "f09740d2",
   "metadata": {},
   "outputs": [],
   "source": [
    "# отображает то же, что и гистограмма - распределение не нормальное, есть выбросы\n",
    "df.boxplot(column=['SalePrice'])"
   ]
  },
  {
   "cell_type": "markdown",
   "id": "5ec7fa89",
   "metadata": {},
   "source": [
    "6 Постройте Гистограммы и Боксплоты по группам:\n",
    "\n",
    "6.1. кондиционером ('CentralAir') и без кондиционера"
   ]
  },
  {
   "cell_type": "code",
   "execution_count": null,
   "id": "91168324",
   "metadata": {},
   "outputs": [],
   "source": [
    "df.boxplot(column='SalePrice', by='CentralAir')"
   ]
  },
  {
   "cell_type": "code",
   "execution_count": null,
   "id": "49306042",
   "metadata": {},
   "outputs": [],
   "source": [
    "# чуть более 'чистые' ящики с усами\n",
    "Q1 = df['SalePrice'].quantile(0.25)\n",
    "Q3 = df['SalePrice'].quantile(0.75)\n",
    "IQR = Q3 - Q1\n",
    "lower_bound = Q1 - 1.5 * IQR\n",
    "upper_bound = Q3 + 1.5 * IQR\n",
    "df_cl = df[(df['SalePrice'] >= lower_bound) & (df['SalePrice'] <= upper_bound)]\n",
    "df_cl.boxplot(column='SalePrice', by='CentralAir')"
   ]
  },
  {
   "cell_type": "markdown",
   "id": "4896aa65",
   "metadata": {},
   "source": [
    "6.2.цены продажи домов (параметр 'SalePrice'), сгруппированные по размеру гаража (параметр 'GarageCars')"
   ]
  },
  {
   "cell_type": "code",
   "execution_count": null,
   "id": "3963ccd5",
   "metadata": {},
   "outputs": [],
   "source": [
    "# df.boxplot(column='SalePrice', by='GarageCars')\n",
    "df_cl.boxplot(column='SalePrice', by='GarageCars')"
   ]
  },
  {
   "cell_type": "markdown",
   "id": "60a375c8",
   "metadata": {},
   "source": [
    "7 Постройте гистограмму частот:\n",
    "\n",
    "7.1. частот размеров гаража"
   ]
  },
  {
   "cell_type": "code",
   "execution_count": null,
   "id": "f0ccd489",
   "metadata": {},
   "outputs": [],
   "source": [
    "sns.histplot(df['GarageCars'], bins=4, color=\"skyblue\", edgecolor=\"black\", alpha=0.7, kde=True)\n",
    "plt.ylabel(\"Frequency\", fontsize=12)\n",
    "plt.show()"
   ]
  },
  {
   "cell_type": "markdown",
   "id": "a530ba88",
   "metadata": {},
   "source": [
    "7.2. частот центрального кондиционирования"
   ]
  },
  {
   "cell_type": "code",
   "execution_count": null,
   "id": "d4d01226",
   "metadata": {},
   "outputs": [],
   "source": [
    "sns.histplot(df['CentralAir'], color=\"skyblue\", edgecolor=\"black\")\n",
    "plt.ylabel(\"Frequency\", fontsize=12)\n",
    "plt.show()"
   ]
  },
  {
   "cell_type": "markdown",
   "id": "edd0bb7e",
   "metadata": {},
   "source": [
    "8 Рассчитайте долю домов\n",
    "\n",
    "8.1. с продажной ценой между 25-м процентилем и 75-м процентилем"
   ]
  },
  {
   "cell_type": "code",
   "execution_count": null,
   "id": "e870a171",
   "metadata": {},
   "outputs": [],
   "source": [
    "Q1 = df['SalePrice'].quantile(0.25)\n",
    "Q3 = df['SalePrice'].quantile(0.75)\n",
    "IQR = Q3 - Q1\n",
    "print((len(df[(df['SalePrice'] >= Q1) & (df['SalePrice'] <= Q3)]) / len(df['SalePrice'])) * 100)"
   ]
  },
  {
   "cell_type": "markdown",
   "id": "a9dd7819",
   "metadata": {},
   "source": [
    "8.2. с общей площадью в квадратных футах от 25-го процентиля до 75-го процентиля"
   ]
  },
  {
   "cell_type": "code",
   "execution_count": null,
   "id": "fe2fd4d8",
   "metadata": {},
   "outputs": [],
   "source": [
    "Q1 = df['LotArea'].quantile(0.25)\n",
    "Q3 = df['LotArea'].quantile(0.75)\n",
    "IQR = Q3 - Q1\n",
    "print((len(df[(df['LotArea'] >= Q1) & (df['LotArea'] <= Q3)]) / len(df['LotArea'])) * 100)"
   ]
  },
  {
   "cell_type": "markdown",
   "id": "aae2878b",
   "metadata": {},
   "source": [
    "9 Получите ковариационную матрицу для всех данных DataFrame и используйте анализ тепловой карты."
   ]
  },
  {
   "cell_type": "code",
   "execution_count": null,
   "id": "0a4de3a6",
   "metadata": {},
   "outputs": [],
   "source": [
    "df.cov(numeric_only=True)"
   ]
  },
  {
   "cell_type": "code",
   "execution_count": null,
   "id": "6390e2b2",
   "metadata": {},
   "outputs": [],
   "source": [
    "plt.rcParams[\"figure.figsize\"] = (18, 15)\n",
    "data = df.loc[:, ~df.columns.isin(['Id'])].corr(numeric_only=True)\n",
    "sns.heatmap(data, mask=np.triu(np.ones_like(data)))"
   ]
  },
  {
   "cell_type": "markdown",
   "id": "b2be9c2a",
   "metadata": {},
   "source": [
    "Выведетите 10 параметров с наибольшей корреляцией с SalePrice"
   ]
  },
  {
   "cell_type": "code",
   "execution_count": null,
   "id": "e3f34c64",
   "metadata": {},
   "outputs": [],
   "source": [
    "df.corr(numeric_only=True).abs().unstack().sort_values(kind=\"quicksort\", ascending=False)[\"SalePrice\"][:10]"
   ]
  }
 ],
 "metadata": {
  "kernelspec": {
   "display_name": "Python 3",
   "language": "python",
   "name": "python3"
  },
  "language_info": {
   "codemirror_mode": {
    "name": "ipython",
    "version": 3
   },
   "file_extension": ".py",
   "mimetype": "text/x-python",
   "name": "python",
   "nbconvert_exporter": "python",
   "pygments_lexer": "ipython3",
   "version": "3.13.2"
  }
 },
 "nbformat": 4,
 "nbformat_minor": 5
}
