{
 "cells": [
  {
   "cell_type": "code",
   "execution_count": null,
   "metadata": {},
   "outputs": [],
   "source": [
    "from clickhouse_driver import Client\n",
    "\n",
    "client = Client('oleg.orbita.work', port = 9000, user='student_ml',\n",
    "password='CGRV8zemLGgsfdz7Uc6ZJeisGTcPQa', settings={'use_numpy': True})\n",
    "client.execute('SHOW DATABASES')"
   ]
  },
  {
   "cell_type": "code",
   "execution_count": null,
   "metadata": {},
   "outputs": [],
   "source": [
    "table_name = 'students_datas.game_sales'\n",
    "# .drop(labels=['Name', 'Genre', 'Year', 'NA_Sales', 'EU_Sales', 'JP_Sales', 'Other_Sales', 'Global_Sales'], axis=1)\n",
    "%config InlineBackend.figure_format = 'svg' "
   ]
  },
  {
   "cell_type": "code",
   "execution_count": null,
   "metadata": {},
   "outputs": [],
   "source": [
    "df = client.query_dataframe(f\"SELECT * FROM {table_name}\")\n",
    "columns = df.columns\n",
    "df.head(30)"
   ]
  },
  {
   "cell_type": "code",
   "execution_count": null,
   "metadata": {},
   "outputs": [],
   "source": [
    "df = df.dropna()\n",
    "df.head(30)"
   ]
  },
  {
   "cell_type": "code",
   "execution_count": null,
   "metadata": {},
   "outputs": [],
   "source": [
    "import matplotlib.pyplot as plt\n",
    "import numpy as np \n",
    "import seaborn as sns"
   ]
  },
  {
   "cell_type": "code",
   "execution_count": null,
   "metadata": {},
   "outputs": [],
   "source": [
    "# Игры каких жанров были наиболее популярны до 2000 года, а какие после?\n",
    "# Оцените популярность жанров по количеству выпущенных игр и по объему продаж по всему миру.\n",
    "df.loc[df['Year'] < 2000]['Genre'].value_counts().sort_values(ascending=False).plot(kind='bar')"
   ]
  },
  {
   "cell_type": "code",
   "execution_count": null,
   "metadata": {},
   "outputs": [],
   "source": [
    "df.loc[df['Year'] < 2000].groupby('Genre')['Global_Sales'].sum().sort_values(ascending=False).plot(kind='bar', color='crimson')"
   ]
  },
  {
   "cell_type": "code",
   "execution_count": null,
   "metadata": {},
   "outputs": [],
   "source": [
    "df.loc[df['Year'] >= 2000]['Genre'].value_counts().sort_values(ascending=False).plot(kind='bar')"
   ]
  },
  {
   "cell_type": "code",
   "execution_count": null,
   "metadata": {},
   "outputs": [],
   "source": [
    "df.loc[df['Year'] >= 2000].groupby('Genre')['Global_Sales'].sum().sort_values(ascending=False).plot(kind='bar', color='crimson')"
   ]
  },
  {
   "cell_type": "markdown",
   "metadata": {},
   "source": [
    "#### Самые популярные жанры по выпуску игр: Спортивные и Экшен \n",
    "\n",
    "#### Самые популярные жанры по продажам: (Платформеры и ролевые) (Спортивные и Экшн)"
   ]
  },
  {
   "cell_type": "code",
   "execution_count": null,
   "metadata": {},
   "outputs": [],
   "source": [
    "df.loc[df['Year'] < 2000].groupby('Genre')['Global_Sales'].mean().sort_values(ascending=False).plot(kind='bar', color='gold')"
   ]
  },
  {
   "cell_type": "markdown",
   "metadata": {},
   "source": [
    "#### Платформеры выпускаются меньше, но, судя по всему, у жанра есть своя аудитория, готовая тратить большие деньги, и единицы компаний разработки, которые ставят высокие цены, производя небольшое количество игр.\n",
    "#### Предположу, что это Нинтендо"
   ]
  },
  {
   "cell_type": "code",
   "execution_count": null,
   "metadata": {},
   "outputs": [],
   "source": [
    "df.loc[df['Year'] < 2000].groupby('Publisher')['Global_Sales'].sum().sort_values(ascending=False).head(10).plot(kind='bar', color='tomato')"
   ]
  },
  {
   "cell_type": "markdown",
   "metadata": {},
   "source": [
    "###### ну кто-ж ещё..."
   ]
  },
  {
   "cell_type": "code",
   "execution_count": null,
   "metadata": {},
   "outputs": [],
   "source": [
    "df.loc[df['Year'] >= 2000].groupby('Publisher')['Global_Sales'].sum().sort_values(ascending=False).head(10).plot(kind='bar', color='tomato')"
   ]
  },
  {
   "cell_type": "markdown",
   "metadata": {},
   "source": [
    "##### положение в общем и целом не изменилось, добавились другие гиганты индустрии, которые также сделали игры, положившие начало новым жанрам"
   ]
  },
  {
   "cell_type": "code",
   "execution_count": null,
   "metadata": {},
   "outputs": [],
   "source": [
    "df.loc[df['Year'] >= 2000].groupby('Name')['Global_Sales'].sum().sort_values(ascending=False).head(30).plot(kind='bar', color='orange')"
   ]
  },
  {
   "cell_type": "markdown",
   "metadata": {},
   "source": [
    "###### марио, калл оф дути, марио, калл оф дути, марио, калл оф дути... "
   ]
  },
  {
   "cell_type": "code",
   "execution_count": null,
   "metadata": {},
   "outputs": [],
   "source": [
    "# Отобразите на графике общее число видеоигр, выпущенных в каждом году.\n",
    "df.drop_duplicates(subset=['Name'])['Year'].dropna().astype(int).value_counts().sort_index().plot(kind='bar')"
   ]
  },
  {
   "cell_type": "code",
   "execution_count": null,
   "metadata": {},
   "outputs": [],
   "source": [
    "# Определите трех издателей, выпустивших наибольшее количество видеоигр.\n",
    "# Изобразите количество выпущенных издателями видеоигр для каждой платформы\n",
    "# на столбиковой диаграмме (можно использовать диаграмму с накоплением).\n",
    "import pandas as pd\n",
    "\n",
    "table = df[df['Publisher'].isin(df['Publisher'].value_counts().head(3).index.tolist())]\n",
    "pd.crosstab(table['Publisher'], table['Platform']).plot(kind='bar', stacked=True)\n",
    "plt.legend(title='Platforms', bbox_to_anchor=(1, 1))\n",
    "plt.show()"
   ]
  },
  {
   "cell_type": "code",
   "execution_count": null,
   "metadata": {},
   "outputs": [],
   "source": [
    "# Отобразите на круговых диаграммах доли суммарного объема продаж с 1980г. до 2000г. и с 2000г. до 2020г.\n",
    "# в Северной Америке, Европе, Японии от объема продаж по всему миру.\n",
    "group_1980_2000 = df[(df['Year'] >= 1980) & (df['Year'] < 2000)]\n",
    "plt.pie(\n",
    "    x=[np.sum(group_1980_2000.NA_Sales), np.sum(group_1980_2000.EU_Sales),\n",
    "       np.sum(group_1980_2000.JP_Sales), np.sum(group_1980_2000.Other_Sales)],\n",
    "    labels=[\"NA\", \"EU\", \"JP\", \"Other\"],\n",
    "    autopct='%1.2f%%')\n",
    "plt.title('Продажи 1980-2000')\n",
    "plt.show()\n",
    "\n",
    "plt.pie(\n",
    "    x=[np.sum(group_1980_2000.JP_Sales), np.sum(group_1980_2000.Global_Sales)],\n",
    "    labels=[\"JP\", \"Global\"],\n",
    "    autopct='%1.2f%%',\n",
    "    colors=['Aqua', 'Lime'])\n",
    "plt.title('Продажи Япония - Мир\\n1980-2000')\n",
    "plt.show()\n",
    "\n",
    "plt.pie(\n",
    "    x=[np.sum(group_1980_2000.EU_Sales), np.sum(group_1980_2000.Global_Sales)],\n",
    "    labels=[\"EU\", \"Global\"],\n",
    "    autopct='%1.2f%%')\n",
    "plt.title('Продажи 1980-2000\\nЕвропа - Мир')\n",
    "plt.show()\n",
    "\n",
    "plt.pie(\n",
    "    x=[np.sum(group_1980_2000.NA_Sales), np.sum(group_1980_2000.Global_Sales)],\n",
    "    labels=[\"NA\", \"Global\"],\n",
    "    autopct='%1.2f%%',\n",
    "    colors=['Tan', 'Silver'])\n",
    "plt.title('Продажи 1980-2000\\nСеверная Америка - Мир')\n",
    "plt.show()"
   ]
  },
  {
   "cell_type": "code",
   "execution_count": null,
   "metadata": {},
   "outputs": [],
   "source": [
    "group_2000_2020 =  df[(df['Year'] >= 2000) & (df['Year'] < 2020)]\n",
    "plt.pie(\n",
    "    x=[np.sum(group_2000_2020.NA_Sales), np.sum(group_2000_2020.EU_Sales),\n",
    "       np.sum(group_2000_2020.JP_Sales), np.sum(group_2000_2020.Other_Sales)],\n",
    "    labels=[\"NA\", \"EU\", \"JP\", \"Other\"],\n",
    "    autopct='%1.2f%%',\n",
    "    colors=sns.color_palette('Set2'))\n",
    "plt.title('Продажи 2000-2020')\n",
    "plt.show()\n",
    "\n",
    "plt.pie(\n",
    "    x=[np.sum(group_2000_2020.JP_Sales), np.sum(group_2000_2020.Global_Sales)],\n",
    "    labels=[\"JP\", \"Global\"],\n",
    "    autopct='%1.2f%%',\n",
    "    colors=['Aqua', 'Lime'])\n",
    "plt.title('Продажи Япония - Мир\\n1980-2000')\n",
    "plt.show()\n",
    "\n",
    "plt.pie(\n",
    "    x=[np.sum(group_2000_2020.EU_Sales), np.sum(group_2000_2020.Global_Sales)],\n",
    "    labels=[\"EU\", \"Global\"],\n",
    "    autopct='%1.2f%%')\n",
    "plt.title('Продажи 1980-2000\\nЕвропа - Мир')\n",
    "plt.show()\n",
    "\n",
    "plt.pie(\n",
    "    x=[np.sum(group_2000_2020.NA_Sales), np.sum(group_2000_2020.Global_Sales)],\n",
    "    labels=[\"NA\", \"Global\"],\n",
    "    autopct='%1.2f%%',\n",
    "    colors=['Tan', 'Silver'])\n",
    "plt.title('Продажи 1980-2000\\nСеверная Америка - Мир')\n",
    "plt.show()"
   ]
  }
 ],
 "metadata": {
  "kernelspec": {
   "display_name": "Python 3",
   "language": "python",
   "name": "python3"
  },
  "language_info": {
   "codemirror_mode": {
    "name": "ipython",
    "version": 3
   },
   "file_extension": ".py",
   "mimetype": "text/x-python",
   "name": "python",
   "nbconvert_exporter": "python",
   "pygments_lexer": "ipython3",
   "version": "3.13.2"
  }
 },
 "nbformat": 4,
 "nbformat_minor": 2
}
