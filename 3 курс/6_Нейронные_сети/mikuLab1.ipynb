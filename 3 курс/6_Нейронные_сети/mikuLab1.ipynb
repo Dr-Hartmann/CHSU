{
 "cells": [
  {
   "cell_type": "code",
   "execution_count": 2,
   "metadata": {},
   "outputs": [],
   "source": [
    "import numpy as np"
   ]
  },
  {
   "cell_type": "code",
   "execution_count": 3,
   "metadata": {},
   "outputs": [
    {
     "name": "stdout",
     "output_type": "stream",
     "text": [
      "[[3 3 3 3]\n",
      " [3 3 3 3]\n",
      " [3 3 3 3]]\n"
     ]
    }
   ],
   "source": [
    "arr_1 = np.full((3, 4), 3)\n",
    "print (arr_1)"
   ]
  },
  {
   "cell_type": "code",
   "execution_count": 4,
   "metadata": {},
   "outputs": [
    {
     "name": "stdout",
     "output_type": "stream",
     "text": [
      "[[9 3 0 9]\n",
      " [1 6 3 1]]\n"
     ]
    }
   ],
   "source": [
    "arr_2 = np.random.randint(0, 10, size=(2, 4))\n",
    "print (arr_2)"
   ]
  },
  {
   "cell_type": "code",
   "execution_count": 5,
   "metadata": {},
   "outputs": [
    {
     "name": "stdout",
     "output_type": "stream",
     "text": [
      "[[9 3 0 9]\n",
      " [1 6 3 1]\n",
      " [3 3 3 3]\n",
      " [3 3 3 3]\n",
      " [3 3 3 3]]\n"
     ]
    }
   ],
   "source": [
    "newArr = np.concatenate((arr_2, arr_1), axis=0)\n",
    "print (newArr)"
   ]
  },
  {
   "cell_type": "code",
   "execution_count": 6,
   "metadata": {},
   "outputs": [
    {
     "name": "stdout",
     "output_type": "stream",
     "text": [
      "[1 8 6 5 8 3]\n"
     ]
    }
   ],
   "source": [
    "tuple = (1, 8, 6, 5, 8, 3)\n",
    "arr_3 = np.array(tuple)\n",
    "print(arr_3)"
   ]
  },
  {
   "cell_type": "code",
   "execution_count": 7,
   "metadata": {},
   "outputs": [
    {
     "name": "stdout",
     "output_type": "stream",
     "text": [
      "[ 4 25 19 16 25 10]\n"
     ]
    }
   ],
   "source": [
    "arr_4  = arr_3 * 3 + 1\n",
    "print (arr_4)"
   ]
  },
  {
   "cell_type": "code",
   "execution_count": 8,
   "metadata": {},
   "outputs": [
    {
     "name": "stdout",
     "output_type": "stream",
     "text": [
      "[[1 8 6]\n",
      " [5 8 3]]\n"
     ]
    }
   ],
   "source": [
    "arr_5 = arr_3.reshape((2,3))\n",
    "print(arr_5)"
   ]
  },
  {
   "cell_type": "code",
   "execution_count": 9,
   "metadata": {},
   "outputs": [
    {
     "name": "stdout",
     "output_type": "stream",
     "text": [
      "[1 3]\n"
     ]
    }
   ],
   "source": [
    "print (np.min(arr_5, axis=1))"
   ]
  },
  {
   "cell_type": "code",
   "execution_count": 10,
   "metadata": {},
   "outputs": [
    {
     "name": "stdout",
     "output_type": "stream",
     "text": [
      "5.166666666666667\n"
     ]
    }
   ],
   "source": [
    "print (np.mean(arr_5))"
   ]
  },
  {
   "cell_type": "code",
   "execution_count": 11,
   "metadata": {},
   "outputs": [
    {
     "name": "stdout",
     "output_type": "stream",
     "text": [
      "[  0   1   4   9  16  25  36  49  64  81 100]\n"
     ]
    }
   ],
   "source": [
    "arr_6 = np.arange(11) ** 2\n",
    "print (arr_6)"
   ]
  },
  {
   "cell_type": "code",
   "execution_count": 12,
   "metadata": {},
   "outputs": [
    {
     "name": "stdout",
     "output_type": "stream",
     "text": [
      "[  0   4  16  36  64 100]\n"
     ]
    }
   ],
   "source": [
    "print(arr_6[::2])"
   ]
  },
  {
   "cell_type": "code",
   "execution_count": 13,
   "metadata": {},
   "outputs": [
    {
     "name": "stdout",
     "output_type": "stream",
     "text": [
      "[100  81  64  49  36  25  16   9   4   1   0]\n"
     ]
    }
   ],
   "source": [
    "print(arr_6[::-1])"
   ]
  },
  {
   "cell_type": "code",
   "execution_count": 14,
   "metadata": {},
   "outputs": [
    {
     "name": "stdout",
     "output_type": "stream",
     "text": [
      "[  0   2   4   2  16   2  36   2  64   2 100]\n"
     ]
    }
   ],
   "source": [
    "arr_6[1::2] = 2\n",
    "print(arr_6)"
   ]
  },
  {
   "cell_type": "code",
   "execution_count": 15,
   "metadata": {},
   "outputs": [
    {
     "name": "stdout",
     "output_type": "stream",
     "text": [
      "49 нет в массиве.\n"
     ]
    }
   ],
   "source": [
    "if np.any((ch := 49) == arr_6):\n",
    "    print(f\"{ch} есть в массиве.\")\n",
    "else:\n",
    "    print(f\"{ch} нет в массиве.\")"
   ]
  },
  {
   "cell_type": "code",
   "execution_count": 19,
   "metadata": {},
   "outputs": [
    {
     "name": "stdout",
     "output_type": "stream",
     "text": [
      "[[  2  -3  -9]\n",
      " [  0  -5   7]\n",
      " [  1   6  -2]\n",
      " [ -5 -10   3]]\n",
      "[ -3  -9  -5  -2  -5 -10]\n"
     ]
    }
   ],
   "source": [
    "def GetNegative(array):\n",
    "  return array[array < 0]\n",
    "\n",
    "arr_A = np.array([[2, -3, -9],\n",
    "                  [0, -5, 7], \n",
    "                  [1, 6, -2], \n",
    "                  [-5, -10, 3]])\n",
    "arr_B = GetNegative(arr_A)\n",
    "    \n",
    "print(arr_A)\n",
    "print(arr_B)"
   ]
  }
 ],
 "metadata": {
  "kernelspec": {
   "display_name": "Python 3",
   "language": "python",
   "name": "python3"
  },
  "language_info": {
   "codemirror_mode": {
    "name": "ipython",
    "version": 3
   },
   "file_extension": ".py",
   "mimetype": "text/x-python",
   "name": "python",
   "nbconvert_exporter": "python",
   "pygments_lexer": "ipython3",
   "version": "3.13.2"
  }
 },
 "nbformat": 4,
 "nbformat_minor": 2
}
