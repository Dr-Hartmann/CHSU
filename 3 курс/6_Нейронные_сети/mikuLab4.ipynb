{
 "cells": [
  {
   "cell_type": "code",
   "execution_count": null,
   "metadata": {},
   "outputs": [],
   "source": [
    "import matplotlib.pyplot as plt\n",
    "import numpy as np \n",
    "import seaborn as sns\n",
    "import pandas as pd\n",
    "%config InlineBackend.figure_format = 'svg' \n",
    "\n",
    "from clickhouse_driver import Client\n",
    "\n",
    "client = Client('oleg.orbita.work', port = 9000, user='student_ml',\n",
    "password='CGRV8zemLGgsfdz7Uc6ZJeisGTcPQa', settings={'use_numpy': True})\n",
    "client.execute('SHOW DATABASES')\n",
    "\n",
    "table_name = 'students_datas.weather_history'\n",
    "df = client.query_dataframe(f\"SELECT * FROM {table_name}\")"
   ]
  },
  {
   "cell_type": "code",
   "execution_count": null,
   "metadata": {},
   "outputs": [],
   "source": [
    "df.head()"
   ]
  },
  {
   "cell_type": "markdown",
   "metadata": {},
   "source": [
    "2. удаление столбца idx\n"
   ]
  },
  {
   "cell_type": "code",
   "execution_count": null,
   "metadata": {},
   "outputs": [],
   "source": [
    "df = df.drop('idx', axis=1)\n",
    "df.head()"
   ]
  },
  {
   "cell_type": "markdown",
   "metadata": {},
   "source": [
    "3.1 есть пропущенные значения в полях min_t, average_t, max_t, rainfall\n",
    "\n",
    "3.2 больше всего в rainfall\n"
   ]
  },
  {
   "cell_type": "code",
   "execution_count": null,
   "metadata": {},
   "outputs": [],
   "source": [
    "df.info()\n",
    "df.isnull().sum()"
   ]
  },
  {
   "cell_type": "markdown",
   "metadata": {},
   "source": [
    "4. больше всего пропусков в 1986 и 2003\n"
   ]
  },
  {
   "cell_type": "code",
   "execution_count": null,
   "metadata": {},
   "outputs": [],
   "source": [
    "print(df.groupby('year').apply(lambda x: x.isna().sum().sum(),\n",
    "      include_groups=False).sort_values(ascending=False))"
   ]
  },
  {
   "cell_type": "markdown",
   "metadata": {},
   "source": [
    "предварительная обработка данных\n"
   ]
  },
  {
   "cell_type": "code",
   "execution_count": null,
   "metadata": {},
   "outputs": [],
   "source": [
    "not_numeric = ['min_t', 'average_t', 'max_t', 'rainfall']\n",
    "df.loc[:, not_numeric] = df.loc[:, not_numeric].replace(\n",
    "    regex=True, to_replace=',', value='.')\n",
    "df.loc[:, not_numeric] = df.loc[:, not_numeric].replace(\n",
    "    regex=True, to_replace=r'^[-+]?(?:0-9+\\.?0-9*|\\.0-9+)$', value='')\n",
    "\n",
    "for i in not_numeric:\n",
    "    df[i] = pd.to_numeric(df[i], errors='coerce')\n",
    "# df[df['min_t'].isna()]\n",
    "df = df.dropna().drop_duplicates()\n",
    "\n",
    "df.info(verbose=True)\n",
    "df.describe().T"
   ]
  },
  {
   "cell_type": "code",
   "execution_count": null,
   "metadata": {},
   "outputs": [],
   "source": [
    "df.isnull().sum()"
   ]
  },
  {
   "cell_type": "markdown",
   "metadata": {},
   "source": [
    "5. новый столбец даты\n"
   ]
  },
  {
   "cell_type": "code",
   "execution_count": null,
   "metadata": {},
   "outputs": [],
   "source": [
    "df['Date'] = pd.to_datetime(arg=df[['year', 'month', 'day']].astype(\n",
    "    str).agg(\"-\".join, axis=1), format=\"%Y-%m-%d\")\n",
    "df = df.sort_values('Date')\n",
    "df.head()"
   ]
  },
  {
   "cell_type": "markdown",
   "metadata": {},
   "source": [
    "6. размах температур и количество дней без осадков\n"
   ]
  },
  {
   "cell_type": "code",
   "execution_count": null,
   "metadata": {},
   "outputs": [],
   "source": [
    "import itertools\n",
    "df['Temp_range'] = df['max_t'] - df['min_t']\n",
    "\n",
    "\n",
    "def get_days_without_rainfall(acc, x):\n",
    "    return 0 if x > 0 else acc + 1\n",
    "\n",
    "dfcopy2 = df.copy()\n",
    "df['Without_rainfall'] = list(itertools.accumulate(\n",
    "    df['rainfall'], get_days_without_rainfall, initial=0))[1:]\n",
    "df"
   ]
  },
  {
   "cell_type": "markdown",
   "metadata": {},
   "source": [
    "6 второй способ"
   ]
  },
  {
   "cell_type": "code",
   "execution_count": null,
   "metadata": {},
   "outputs": [],
   "source": [
    "dfcopy2['Without_rainfall2'] = 0\n",
    "counter = 0\n",
    "for index, row in dfcopy2.iterrows():\n",
    "    if row['rainfall'] > 0: counter = 0\n",
    "    else: counter += 1\n",
    "    dfcopy2.loc[index, 'Without_rainfall2'] = counter\n",
    "dfcopy2 "
   ]
  },
  {
   "cell_type": "markdown",
   "metadata": {},
   "source": [
    "7. самый длинный период засухи\n"
   ]
  },
  {
   "cell_type": "code",
   "execution_count": null,
   "metadata": {},
   "outputs": [],
   "source": [
    "print(df['Without_rainfall'].max())"
   ]
  },
  {
   "cell_type": "markdown",
   "metadata": {},
   "source": [
    "8. среднегодовая температура и сумма осадков по годам\n"
   ]
  },
  {
   "cell_type": "code",
   "execution_count": null,
   "metadata": {},
   "outputs": [],
   "source": [
    "temp_8 = df.groupby('year')['average_t'].mean()\n",
    "rainfall_8 = df.groupby('year')['rainfall'].sum()\n",
    "plt.rcParams[\"figure.figsize\"] = (13, 5)"
   ]
  },
  {
   "cell_type": "code",
   "execution_count": null,
   "metadata": {},
   "outputs": [],
   "source": [
    "diag1 = temp_8.plot.bar()\n",
    "diag1.legend(loc=4)"
   ]
  },
  {
   "cell_type": "code",
   "execution_count": null,
   "metadata": {},
   "outputs": [],
   "source": [
    "diag2 = rainfall_8.plot.bar()\n",
    "diag2.legend(loc=4)"
   ]
  },
  {
   "cell_type": "code",
   "execution_count": null,
   "metadata": {},
   "outputs": [],
   "source": [
    "print(\n",
    "    f'самый тёплый год - {temp_8.idxmax()}, самый холодный - {temp_8.idxmin()}')\n",
    "print(\n",
    "    f'год максимума осадков - {rainfall_8.idxmax()}, минимума - {rainfall_8.idxmin()}')"
   ]
  },
  {
   "cell_type": "markdown",
   "metadata": {},
   "source": [
    "9.1 средняя температура ниже -30\n"
   ]
  },
  {
   "cell_type": "code",
   "execution_count": null,
   "metadata": {},
   "outputs": [],
   "source": [
    "print(df[df['average_t'] < -30][['Date', 'average_t']])"
   ]
  },
  {
   "cell_type": "markdown",
   "metadata": {},
   "source": [
    "9.2 средняя температура выше 27 и количество дней без осадков больше 3\n"
   ]
  },
  {
   "cell_type": "code",
   "execution_count": null,
   "metadata": {},
   "outputs": [],
   "source": [
    "print(df[(df['average_t'] > 27) & (df['Without_rainfall'] > 3)]\n",
    "      [['Date', 'average_t', 'Without_rainfall']])"
   ]
  },
  {
   "cell_type": "code",
   "execution_count": null,
   "metadata": {},
   "outputs": [],
   "source": [
    "# with pd.option_context(\"display.min_rows\", 50, \"display.max_rows\", 100, \\\n",
    "#    \"display.max_columns\", 15, 'display.max_colwidth', 150): display(df)"
   ]
  }
 ],
 "metadata": {
  "kernelspec": {
   "display_name": "Python 3",
   "language": "python",
   "name": "python3"
  },
  "language_info": {
   "codemirror_mode": {
    "name": "ipython",
    "version": 3
   },
   "file_extension": ".py",
   "mimetype": "text/x-python",
   "name": "python",
   "nbconvert_exporter": "python",
   "pygments_lexer": "ipython3",
   "version": "3.13.2"
  }
 },
 "nbformat": 4,
 "nbformat_minor": 2
}
